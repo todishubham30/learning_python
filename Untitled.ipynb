{
 "cells": [
  {
   "cell_type": "code",
   "execution_count": 2,
   "id": "88184c35",
   "metadata": {},
   "outputs": [
    {
     "name": "stdout",
     "output_type": "stream",
     "text": [
      "The amount after 30 years is: $963.15\n"
     ]
    }
   ],
   "source": [
    "initial_investment = 1000\n",
    "annual_gain_rate = 0.05\n",
    "annual_loss_rate = 0.05\n",
    "years = 30\n",
    "\n",
    "amount = initial_investment\n",
    "\n",
    "for year in range(years):\n",
    "    if year % 2 == 0:  # Even year, gain\n",
    "        gain = amount * annual_gain_rate\n",
    "        amount += gain\n",
    "    else:  # Odd year, loss\n",
    "        loss = amount * annual_loss_rate\n",
    "        amount -= loss\n",
    "\n",
    "print(\"The amount after {} years is: ${:.2f}\".format(years, amount))\n"
   ]
  },
  {
   "cell_type": "code",
   "execution_count": null,
   "id": "9be29f23",
   "metadata": {},
   "outputs": [],
   "source": []
  }
 ],
 "metadata": {
  "kernelspec": {
   "display_name": "Python 3 (ipykernel)",
   "language": "python",
   "name": "python3"
  },
  "language_info": {
   "codemirror_mode": {
    "name": "ipython",
    "version": 3
   },
   "file_extension": ".py",
   "mimetype": "text/x-python",
   "name": "python",
   "nbconvert_exporter": "python",
   "pygments_lexer": "ipython3",
   "version": "3.11.4"
  }
 },
 "nbformat": 4,
 "nbformat_minor": 5
}
