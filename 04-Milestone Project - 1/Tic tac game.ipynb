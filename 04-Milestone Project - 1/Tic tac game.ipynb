{
 "cells": [
  {
   "cell_type": "code",
   "execution_count": 2,
   "id": "610a8eb7",
   "metadata": {},
   "outputs": [],
   "source": [
    "from IPython.display import clear_output\n",
    "clear_output()"
   ]
  },
  {
   "cell_type": "code",
   "execution_count": 47,
   "id": "b4b75d90",
   "metadata": {},
   "outputs": [],
   "source": [
    "def disp_board(board):\n",
    "    clear_output()\n",
    "    print(f'{board[7]}'+'|'+f'{board[8]}'+'|'+f'{board[9]}')\n",
    "    print(f'{board[4]}'+'|'+f'{board[5]}'+'|'+f'{board[6]}')\n",
    "    print(f'{board[1]}'+'|'+f'{board[2]}'+'|'+f'{board[3]}')"
   ]
  },
  {
   "cell_type": "code",
   "execution_count": 48,
   "id": "fb1562d0",
   "metadata": {},
   "outputs": [
    {
     "name": "stdout",
     "output_type": "stream",
     "text": [
      "7|8|9\n",
      "4|5|6\n",
      "1|2|3\n"
     ]
    }
   ],
   "source": [
    "test_board = ['#',1,2,3,4,5,6,7,8,9]\n",
    "disp_board(test_board)"
   ]
  },
  {
   "cell_type": "code",
   "execution_count": 75,
   "id": "2d3d3669",
   "metadata": {},
   "outputs": [],
   "source": [
    "def player_input():\n",
    "    \n",
    "    marker = 'Wrong'\n",
    "    \n",
    "    player1=''\n",
    "    player2=''\n",
    "    \n",
    "    while marker != 'X' and marker != 'O':\n",
    "        marker = input('Player 1, please enter your choice (X or O): ')\n",
    "        if marker not in ['X','O']:\n",
    "            print('Please choose a correct option!')\n",
    "        \n",
    "        if marker == 'X':\n",
    "            player1 = 'X'\n",
    "            player2 = 'O'\n",
    "            break;\n",
    "            \n",
    "        if marker == 'O':\n",
    "            player1 = 'O'\n",
    "            player2 = 'X'\n",
    "            break;\n",
    "            \n",
    "    return player1,player2"
   ]
  },
  {
   "cell_type": "code",
   "execution_count": 50,
   "id": "2740132b",
   "metadata": {},
   "outputs": [
    {
     "name": "stdout",
     "output_type": "stream",
     "text": [
      "Player 1, please enter your choice (X or O): O\n"
     ]
    },
    {
     "data": {
      "text/plain": [
       "('O', 'X')"
      ]
     },
     "execution_count": 50,
     "metadata": {},
     "output_type": "execute_result"
    }
   ],
   "source": [
    "player_input()"
   ]
  },
  {
   "cell_type": "code",
   "execution_count": 37,
   "id": "875effa1",
   "metadata": {},
   "outputs": [
    {
     "name": "stdout",
     "output_type": "stream",
     "text": [
      "Player 1, please enter your choice (X or O): O\n"
     ]
    },
    {
     "data": {
      "text/plain": [
       "('O', 'X')"
      ]
     },
     "execution_count": 37,
     "metadata": {},
     "output_type": "execute_result"
    }
   ],
   "source": [
    "player_input()"
   ]
  },
  {
   "cell_type": "code",
   "execution_count": 39,
   "id": "dd360029",
   "metadata": {},
   "outputs": [
    {
     "name": "stdout",
     "output_type": "stream",
     "text": [
      "Player 1, please enter your choice (X or O): m\n",
      "Please choose a correct option!\n",
      "Player 1, please enter your choice (X or O): 12\n",
      "Please choose a correct option!\n",
      "Player 1, please enter your choice (X or O): x\n",
      "Please choose a correct option!\n",
      "Player 1, please enter your choice (X or O): o\n",
      "Please choose a correct option!\n",
      "Player 1, please enter your choice (X or O): X\n"
     ]
    },
    {
     "data": {
      "text/plain": [
       "('X', 'O')"
      ]
     },
     "execution_count": 39,
     "metadata": {},
     "output_type": "execute_result"
    }
   ],
   "source": [
    "player_input()"
   ]
  },
  {
   "cell_type": "code",
   "execution_count": 40,
   "id": "bbbab995",
   "metadata": {},
   "outputs": [
    {
     "name": "stdout",
     "output_type": "stream",
     "text": [
      "Player 1, please enter your choice (X or O): O\n"
     ]
    },
    {
     "data": {
      "text/plain": [
       "('O', 'X')"
      ]
     },
     "execution_count": 40,
     "metadata": {},
     "output_type": "execute_result"
    }
   ],
   "source": [
    "player_input()"
   ]
  },
  {
   "cell_type": "code",
   "execution_count": 56,
   "id": "c17df3e2",
   "metadata": {},
   "outputs": [],
   "source": [
    "def place_marker(board,marker,position):\n",
    "    \n",
    "    board[position] = marker\n",
    "    disp_board(test_board)\n",
    "    "
   ]
  },
  {
   "cell_type": "code",
   "execution_count": 57,
   "id": "3100b5bf",
   "metadata": {},
   "outputs": [
    {
     "name": "stdout",
     "output_type": "stream",
     "text": [
      "7|8|9\n",
      "4|4|6\n",
      "1|2|3\n"
     ]
    }
   ],
   "source": [
    "place_marker(test_board,'4',5)"
   ]
  },
  {
   "cell_type": "code",
   "execution_count": 61,
   "id": "0a946f8a",
   "metadata": {},
   "outputs": [],
   "source": [
    "def win_check(board, mark):\n",
    "    return ((board[1] == mark and board[2] == mark and board[3] == mark) or \n",
    "    (board[4] == mark and board[5] == mark and board[6] == mark) or \n",
    "    (board[7] == mark and board[8] == mark and board[9] == mark) or \n",
    "    (board[1] == mark and board[4] == mark and board[7] == mark) or \n",
    "    (board[2] == mark and board[5] == mark and board[8] == mark) or \n",
    "    (board[3] == mark and board[6] == mark and board[9] == mark) or \n",
    "    (board[1] == mark and board[5] == mark and board[9] == mark) or \n",
    "    (board[3] == mark and board[5] == mark and board[7] == mark))\n",
    "        "
   ]
  },
  {
   "cell_type": "code",
   "execution_count": 62,
   "id": "76c9b5af",
   "metadata": {},
   "outputs": [
    {
     "data": {
      "text/plain": [
       "False"
      ]
     },
     "execution_count": 62,
     "metadata": {},
     "output_type": "execute_result"
    }
   ],
   "source": [
    "win_check(test_board,'X')"
   ]
  },
  {
   "cell_type": "code",
   "execution_count": 63,
   "id": "dded8e51",
   "metadata": {},
   "outputs": [
    {
     "name": "stdout",
     "output_type": "stream",
     "text": [
      "7|8|9\n",
      "X|X|X\n",
      "1|2|3\n"
     ]
    },
    {
     "data": {
      "text/plain": [
       "True"
      ]
     },
     "execution_count": 63,
     "metadata": {},
     "output_type": "execute_result"
    }
   ],
   "source": [
    "place_marker(test_board,'X',4)\n",
    "place_marker(test_board,'X',5)\n",
    "place_marker(test_board,'X',6)\n",
    "win_check(test_board,'X')"
   ]
  },
  {
   "cell_type": "code",
   "execution_count": 64,
   "id": "0068ece9",
   "metadata": {},
   "outputs": [],
   "source": [
    "import random\n",
    "\n",
    "def choose_first():\n",
    "    flip = random.randint(0,1)\n",
    "    \n",
    "    if flip == 0:\n",
    "        return 'Player1'\n",
    "    else:\n",
    "        return 'Player2'"
   ]
  },
  {
   "cell_type": "code",
   "execution_count": 67,
   "id": "4a3458cd",
   "metadata": {},
   "outputs": [],
   "source": [
    "def space_check(board,position):\n",
    "    return board[position] == ' '"
   ]
  },
  {
   "cell_type": "code",
   "execution_count": 68,
   "id": "95e2de98",
   "metadata": {},
   "outputs": [],
   "source": [
    "def full_board(board):\n",
    "    for i in range(1,10):\n",
    "        if space_check(board,i):\n",
    "            return False\n",
    "    \n",
    "    return True"
   ]
  },
  {
   "cell_type": "code",
   "execution_count": 80,
   "id": "cfe2de16",
   "metadata": {},
   "outputs": [],
   "source": [
    "def player_choice(board):\n",
    "    \n",
    "    position = 0\n",
    "    \n",
    "    while position not in [1,2,3,4,5,6,7,8,9] or not space_check(board, position):\n",
    "        position = int(input('Choose a position (1-9) '))\n",
    "        if position not in [1,2,3,4,5,6,7,8,9] or not space_check(board, position):\n",
    "            print('Position is wrong or already occupied.')\n",
    "        \n",
    "    return position"
   ]
  },
  {
   "cell_type": "code",
   "execution_count": 87,
   "id": "107b00a1",
   "metadata": {},
   "outputs": [],
   "source": [
    "def replay():\n",
    "    response = 'Wrong'\n",
    "    while response != 'Yes' and response != 'No':\n",
    "        response = input('Play again? Yes or No: ')\n",
    "        if response != 'Yes' and response != 'No':\n",
    "            print('Please enter either Yes or No')\n",
    "    return response == 'Yes'"
   ]
  },
  {
   "cell_type": "code",
   "execution_count": 88,
   "id": "b9d45dce",
   "metadata": {},
   "outputs": [
    {
     "name": "stdout",
     "output_type": "stream",
     "text": [
      "O|X|X\n",
      "X|O|O\n",
      "X|O|X\n",
      "The game is a tie\n",
      "Play again? Yes or No: b\n",
      "Please enter either Yes or No\n",
      "Play again? Yes or No: l\n",
      "Please enter either Yes or No\n",
      "Play again? Yes or No: N\n",
      "Please enter either Yes or No\n",
      "Play again? Yes or No: Yes\n",
      "Player 1, please enter your choice (X or O): X\n",
      "Player1Will go first\n",
      "Ready to play? y or nm\n",
      "Play again? Yes or No: no\n",
      "Please enter either Yes or No\n",
      "Play again? Yes or No: No\n"
     ]
    }
   ],
   "source": [
    "print('Welcome to tic-tac-toe')\n",
    "\n",
    "while True:\n",
    "    \n",
    "    the_board = [' ']*10\n",
    "    \n",
    "    player1_marker,player2_marker=player_input()\n",
    "    \n",
    "    turn=choose_first()\n",
    "    \n",
    "    print(turn + 'Will go first')\n",
    "    \n",
    "    play_game = input('Ready to play? y or n')\n",
    "    \n",
    "    if play_game == 'y':\n",
    "        game_on = True\n",
    "    else:\n",
    "        game_on = False\n",
    "        \n",
    "    while game_on:\n",
    "        #player1 turn\n",
    "        if turn == 'Player1':\n",
    "            disp_board(the_board)\n",
    "            position = player_choice(the_board)\n",
    "            place_marker(the_board,player1_marker,position)\n",
    "            if win_check(the_board,player1_marker):\n",
    "                disp_board(the_board)\n",
    "                print('Player1 has won!')\n",
    "                game_on = False\n",
    "            else:\n",
    "                if full_board(the_board):\n",
    "                    disp_board(the_board)\n",
    "                    print('The game is a tie')\n",
    "                    game_on = False\n",
    "                    \n",
    "                else:\n",
    "                    turn = 'Player2'    \n",
    "        #plaer2 turn    \n",
    "        else:\n",
    "            disp_board(the_board)\n",
    "            position = player_choice(the_board)\n",
    "            place_marker(the_board,player2_marker,position)\n",
    "            if win_check(the_board,player2_marker):\n",
    "                disp_board(the_board)\n",
    "                print('Player2 has won!')\n",
    "                game_on = False\n",
    "            else:\n",
    "                if full_board(the_board):\n",
    "                    disp_board(the_board)\n",
    "                    print('The game is a tie')\n",
    "                    game_on = False\n",
    "                    \n",
    "                else:\n",
    "                    turn = 'Player1'\n",
    "    \n",
    "    \n",
    "    if not replay():\n",
    "        break"
   ]
  },
  {
   "cell_type": "code",
   "execution_count": null,
   "id": "8aa3f810",
   "metadata": {},
   "outputs": [],
   "source": []
  }
 ],
 "metadata": {
  "kernelspec": {
   "display_name": "Python 3 (ipykernel)",
   "language": "python",
   "name": "python3"
  },
  "language_info": {
   "codemirror_mode": {
    "name": "ipython",
    "version": 3
   },
   "file_extension": ".py",
   "mimetype": "text/x-python",
   "name": "python",
   "nbconvert_exporter": "python",
   "pygments_lexer": "ipython3",
   "version": "3.11.4"
  }
 },
 "nbformat": 4,
 "nbformat_minor": 5
}
