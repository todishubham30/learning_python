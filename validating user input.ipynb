{
 "cells": [
  {
   "cell_type": "code",
   "execution_count": 1,
   "id": "fa6d0619",
   "metadata": {},
   "outputs": [],
   "source": [
    "def user_input():\n",
    "    choice = input(\"Please Enter a number between 1 and 10: \")\n",
    "    return int(choice)"
   ]
  },
  {
   "cell_type": "code",
   "execution_count": 2,
   "id": "ec61f452",
   "metadata": {},
   "outputs": [],
   "source": [
    "s='100'"
   ]
  },
  {
   "cell_type": "code",
   "execution_count": 3,
   "id": "d5840ba2",
   "metadata": {},
   "outputs": [
    {
     "data": {
      "text/plain": [
       "True"
      ]
     },
     "execution_count": 3,
     "metadata": {},
     "output_type": "execute_result"
    }
   ],
   "source": [
    "s.isdigit()"
   ]
  },
  {
   "cell_type": "code",
   "execution_count": 10,
   "id": "49f44101",
   "metadata": {},
   "outputs": [],
   "source": [
    "def user_choice():\n",
    "    \n",
    "    choice = 'Wrong'\n",
    "    \n",
    "    while choice.isdigit()==False:\n",
    "        \n",
    "        choice = input(\"Please Enter a number between 1 and 10: \")\n",
    "        if choice.isdigit()==False:\n",
    "            print(\"Enter a digit\")\n",
    "        \n",
    "    return int(choice)"
   ]
  },
  {
   "cell_type": "code",
   "execution_count": 9,
   "id": "e6e09f96",
   "metadata": {},
   "outputs": [
    {
     "name": "stdout",
     "output_type": "stream",
     "text": [
      "Please Enter a number between 1 and 10: two\n",
      "Please Enter a number between 1 and 10: opkm\n",
      "Please Enter a number between 1 and 10: qsds\n",
      "Please Enter a number between 1 and 10: 12d\n",
      "Please Enter a number between 1 and 10: 12\n"
     ]
    },
    {
     "data": {
      "text/plain": [
       "12"
      ]
     },
     "execution_count": 9,
     "metadata": {},
     "output_type": "execute_result"
    }
   ],
   "source": [
    "user_choice()"
   ]
  },
  {
   "cell_type": "code",
   "execution_count": 11,
   "id": "3577fd1a",
   "metadata": {},
   "outputs": [
    {
     "name": "stdout",
     "output_type": "stream",
     "text": [
      "Please Enter a number between 1 and 10: i\n",
      "Enter a digit\n",
      "Please Enter a number between 1 and 10: d\n",
      "Enter a digit\n",
      "Please Enter a number between 1 and 10: 1\n"
     ]
    },
    {
     "data": {
      "text/plain": [
       "1"
      ]
     },
     "execution_count": 11,
     "metadata": {},
     "output_type": "execute_result"
    }
   ],
   "source": [
    "user_choice()"
   ]
  },
  {
   "cell_type": "code",
   "execution_count": 1,
   "id": "75e1a52f",
   "metadata": {},
   "outputs": [],
   "source": [
    "def user_choice():\n",
    "    \n",
    "    choice = 'Wrong'\n",
    "    acceptable_range = range(0,10)\n",
    "    within_range = False\n",
    "    \n",
    "    while choice.isdigit()==False or within_range==False:\n",
    "        \n",
    "        choice = input(\"Please Enter a number between 1 and 10: \")\n",
    "        if choice.isdigit()==False:\n",
    "            print(\"Sorry that is not a digit, Enter a digit\")\n",
    "        if choice.isdigit()==True:\n",
    "            if int(choice) in acceptable_range:\n",
    "                within_range=True\n",
    "            else:\n",
    "                print('Enter a number between (1-10)')\n",
    "                within_range=False\n",
    "                \n",
    "    return int(choice)"
   ]
  },
  {
   "cell_type": "code",
   "execution_count": 2,
   "id": "59919bec",
   "metadata": {},
   "outputs": [
    {
     "name": "stdout",
     "output_type": "stream",
     "text": [
      "Please Enter a number between 1 and 10: two\n",
      "Sorry that is not a digit, Enter a digit\n",
      "Please Enter a number between 1 and 10: 11\n",
      "Enter a number between (1-10)\n",
      "Please Enter a number between 1 and 10: 3\n"
     ]
    },
    {
     "data": {
      "text/plain": [
       "3"
      ]
     },
     "execution_count": 2,
     "metadata": {},
     "output_type": "execute_result"
    }
   ],
   "source": [
    "user_choice()"
   ]
  },
  {
   "cell_type": "code",
   "execution_count": null,
   "id": "edcc4994",
   "metadata": {},
   "outputs": [],
   "source": []
  },
  {
   "cell_type": "code",
   "execution_count": null,
   "id": "56ae3a7a",
   "metadata": {},
   "outputs": [],
   "source": []
  },
  {
   "cell_type": "code",
   "execution_count": null,
   "id": "6a11c3be",
   "metadata": {},
   "outputs": [],
   "source": []
  },
  {
   "cell_type": "code",
   "execution_count": null,
   "id": "fde68d7f",
   "metadata": {},
   "outputs": [],
   "source": []
  },
  {
   "cell_type": "code",
   "execution_count": null,
   "id": "742279ff",
   "metadata": {},
   "outputs": [],
   "source": []
  },
  {
   "cell_type": "code",
   "execution_count": 6,
   "id": "80eec82e",
   "metadata": {},
   "outputs": [],
   "source": [
    "game_list = [0,1,2]"
   ]
  },
  {
   "cell_type": "code",
   "execution_count": 7,
   "id": "0e697893",
   "metadata": {},
   "outputs": [],
   "source": [
    "def disp_game(game_list):\n",
    "    print(f 'Here is the game list: {game_list}')"
   ]
  },
  {
   "cell_type": "code",
   "execution_count": 10,
   "id": "fb67e01c",
   "metadata": {},
   "outputs": [
    {
     "name": "stdout",
     "output_type": "stream",
     "text": [
      "Here is the game list: [0, 1, 2]\n"
     ]
    }
   ],
   "source": [
    "disp_game(game_list)"
   ]
  },
  {
   "cell_type": "code",
   "execution_count": 20,
   "id": "45119056",
   "metadata": {},
   "outputs": [],
   "source": [
    "def position_choice():\n",
    "    \n",
    "    choice = 'Wrong'\n",
    "    \n",
    "    while choice not in ['0','1','2']:\n",
    "        choice = input('Pick a position (0,1 or 2):')\n",
    "    \n",
    "    return int(choice)"
   ]
  },
  {
   "cell_type": "code",
   "execution_count": 21,
   "id": "95b1fd2a",
   "metadata": {},
   "outputs": [
    {
     "name": "stdout",
     "output_type": "stream",
     "text": [
      "Pick a position (0,1 or 2):two\n",
      "Pick a position (0,1 or 2):9\n",
      "Pick a position (0,1 or 2):q\n",
      "Pick a position (0,1 or 2):1\n"
     ]
    },
    {
     "data": {
      "text/plain": [
       "1"
      ]
     },
     "execution_count": 21,
     "metadata": {},
     "output_type": "execute_result"
    }
   ],
   "source": [
    "position_choice()"
   ]
  },
  {
   "cell_type": "code",
   "execution_count": 26,
   "id": "2189ded9",
   "metadata": {},
   "outputs": [],
   "source": [
    "def replacement_choice(game_list,position):\n",
    "    user_placement = input(\"Type a string to place at position: \")\n",
    "    \n",
    "    game_list[position] = user_placement\n",
    "    \n",
    "    return game_list"
   ]
  },
  {
   "cell_type": "code",
   "execution_count": 27,
   "id": "29834c87",
   "metadata": {},
   "outputs": [
    {
     "name": "stdout",
     "output_type": "stream",
     "text": [
      "Type a string to place at position: hello\n"
     ]
    },
    {
     "data": {
      "text/plain": [
       "[0, 'hello', 2]"
      ]
     },
     "execution_count": 27,
     "metadata": {},
     "output_type": "execute_result"
    }
   ],
   "source": [
    "replacement_choice(game_list,1)"
   ]
  },
  {
   "cell_type": "code",
   "execution_count": 41,
   "id": "cfb80223",
   "metadata": {},
   "outputs": [],
   "source": [
    "def gameon_choice():\n",
    "    \n",
    "    choice = 'Wrong'\n",
    "    \n",
    "    while choice not in ['Y','N']:\n",
    "        choice = input('Do you want to keep playing?')\n",
    "    \n",
    "    if choice =='Y': return True\n",
    "    else: return False"
   ]
  },
  {
   "cell_type": "code",
   "execution_count": 29,
   "id": "16f8896d",
   "metadata": {},
   "outputs": [
    {
     "name": "stdout",
     "output_type": "stream",
     "text": [
      "Type a string to place at position: Y\n"
     ]
    },
    {
     "data": {
      "text/plain": [
       "[0, 'Y', 2]"
      ]
     },
     "execution_count": 29,
     "metadata": {},
     "output_type": "execute_result"
    }
   ],
   "source": [
    "replacement_choice(game_list,1)"
   ]
  },
  {
   "cell_type": "code",
   "execution_count": 43,
   "id": "40a687b4",
   "metadata": {},
   "outputs": [
    {
     "name": "stdout",
     "output_type": "stream",
     "text": [
      "Do you want to keep playing?l\n",
      "Do you want to keep playing?M\n",
      "Do you want to keep playing?n\n",
      "Do you want to keep playing?N\n"
     ]
    },
    {
     "data": {
      "text/plain": [
       "False"
      ]
     },
     "execution_count": 43,
     "metadata": {},
     "output_type": "execute_result"
    }
   ],
   "source": [
    "gameon_choice()"
   ]
  },
  {
   "cell_type": "code",
   "execution_count": 46,
   "id": "310d0ceb",
   "metadata": {},
   "outputs": [
    {
     "name": "stdout",
     "output_type": "stream",
     "text": [
      "Here is the game list: [0, 1, 2]\n",
      "Pick a position (0,1 or 2):2\n",
      "Type a string to place at position: Lol\n"
     ]
    },
    {
     "data": {
      "text/plain": [
       "[0, 1, 'Lol']"
      ]
     },
     "metadata": {},
     "output_type": "display_data"
    },
    {
     "name": "stdout",
     "output_type": "stream",
     "text": [
      "Do you want to keep playing?Y\n",
      "Here is the game list: [0, 1, 'Lol']\n",
      "Pick a position (0,1 or 2):0\n",
      "Type a string to place at position: You\n"
     ]
    },
    {
     "data": {
      "text/plain": [
       "['You', 1, 'Lol']"
      ]
     },
     "metadata": {},
     "output_type": "display_data"
    },
    {
     "name": "stdout",
     "output_type": "stream",
     "text": [
      "Do you want to keep playing?N\n"
     ]
    }
   ],
   "source": [
    "game_on = True\n",
    "game_list = [0,1,2]\n",
    "\n",
    "while game_on:\n",
    "    disp_game(game_list)\n",
    "    \n",
    "    position = position_choice()\n",
    "    \n",
    "    game_list = replacement_choice(game_list,position)\n",
    "    \n",
    "    display(game_list)\n",
    "    \n",
    "    game_on=gameon_choice()"
   ]
  },
  {
   "cell_type": "code",
   "execution_count": null,
   "id": "d535edb4",
   "metadata": {},
   "outputs": [],
   "source": []
  }
 ],
 "metadata": {
  "kernelspec": {
   "display_name": "Python 3 (ipykernel)",
   "language": "python",
   "name": "python3"
  },
  "language_info": {
   "codemirror_mode": {
    "name": "ipython",
    "version": 3
   },
   "file_extension": ".py",
   "mimetype": "text/x-python",
   "name": "python",
   "nbconvert_exporter": "python",
   "pygments_lexer": "ipython3",
   "version": "3.11.4"
  }
 },
 "nbformat": 4,
 "nbformat_minor": 5
}
